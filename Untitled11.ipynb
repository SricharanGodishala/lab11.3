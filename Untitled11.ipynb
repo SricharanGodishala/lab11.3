{
  "nbformat": 4,
  "nbformat_minor": 0,
  "metadata": {
    "colab": {
      "provenance": [],
      "authorship_tag": "ABX9TyMfOGPSCnNu4/uKvVaVRCHP",
      "include_colab_link": true
    },
    "kernelspec": {
      "name": "python3",
      "display_name": "Python 3"
    },
    "language_info": {
      "name": "python"
    }
  },
  "cells": [
    {
      "cell_type": "markdown",
      "metadata": {
        "id": "view-in-github",
        "colab_type": "text"
      },
      "source": [
        "<a href=\"https://colab.research.google.com/github/BollepallyAshwin/lab-11.3/blob/main/Untitled11.ipynb\" target=\"_parent\"><img src=\"https://colab.research.google.com/assets/colab-badge.svg\" alt=\"Open In Colab\"/></a>"
      ]
    },
    {
      "cell_type": "markdown",
      "source": [
        "LAB-11.3"
      ],
      "metadata": {
        "id": "IRDW7Ptdj0hl"
      }
    },
    {
      "cell_type": "markdown",
      "source": [
        "Task Description #1 – Stack class implementation\n",
        "Task: Ask AI to implement a stack class with push(), pop(), peek() and\n",
        "is_empty() methods"
      ],
      "metadata": {
        "id": "7GJkZjhKfy-g"
      }
    },
    {
      "cell_type": "code",
      "source": [
        "class Stack:\n",
        "    def __init__(self):\n",
        "        self.items = []\n",
        "\n",
        "    def push(self, item):\n",
        "        \"\"\"Adds an item to the top of the stack.\"\"\"\n",
        "        self.items.append(item)\n",
        "\n",
        "    def pop(self):\n",
        "        \"\"\"Removes and returns the item from the top of the stack.\n",
        "        Returns None if the stack is empty.\"\"\"\n",
        "        if not self.is_empty():\n",
        "            return self.items.pop()\n",
        "        else:\n",
        "            return None\n",
        "\n",
        "    def peek(self):\n",
        "        \"\"\"Returns the item at the top of the stack without removing it.\n",
        "        Returns None if the stack is empty.\"\"\"\n",
        "        if not self.is_empty():\n",
        "            return self.items[-1]\n",
        "        else:\n",
        "            return None\n",
        "\n",
        "    def is_empty(self):\n",
        "        \"\"\"Returns True if the stack is empty, False otherwise.\"\"\"\n",
        "        return len(self.items) == 0\n",
        "\n",
        "    def size(self):\n",
        "        \"\"\"Returns the number of items in the stack.\"\"\"\n",
        "        return len(self.items)"
      ],
      "metadata": {
        "id": "RC69hEhBf1G8"
      },
      "execution_count": 1,
      "outputs": []
    },
    {
      "cell_type": "markdown",
      "source": [
        "Task Description #2 – Queue Implementation\n",
        "Task: Use AI to generate a Queue class with enqueue(), dequeue(), and\n",
        "is_empty()."
      ],
      "metadata": {
        "id": "bx_WqFJVgR1Y"
      }
    },
    {
      "cell_type": "code",
      "source": [
        "class Queue:\n",
        "    def __init__(self):\n",
        "        self.items = []\n",
        "\n",
        "    def enqueue(self, item):\n",
        "        \"\"\"Adds an item to the rear of the queue.\"\"\"\n",
        "        self.items.append(item)\n",
        "\n",
        "    def dequeue(self):\n",
        "        \"\"\"Removes and returns the item from the front of the queue.\n",
        "        Returns None if the queue is empty.\"\"\"\n",
        "        if not self.is_empty():\n",
        "            return self.items.pop(0) # Removing from the front (index 0)\n",
        "        else:\n",
        "            return None\n",
        "\n",
        "    def is_empty(self):\n",
        "        \"\"\"Returns True if the queue is empty, False otherwise.\"\"\"\n",
        "        return len(self.items) == 0\n",
        "\n",
        "    def size(self):\n",
        "        \"\"\"Returns the number of items in the queue.\"\"\"\n",
        "        return len(self.items)"
      ],
      "metadata": {
        "id": "GyIG1fIQgUCA"
      },
      "execution_count": null,
      "outputs": []
    },
    {
      "cell_type": "markdown",
      "source": [
        "Task Description #3 – Linked List Implementation\n",
        "Task: Ask AI to create a singly linked list with insert_at_end(),\n",
        "insert_at_beginning(), and display().\n"
      ],
      "metadata": {
        "id": "PExs65LIgUas"
      }
    },
    {
      "cell_type": "code",
      "source": [
        "class Node:\n",
        "    def __init__(self, data):\n",
        "        self.data = data\n",
        "        self.next = None\n",
        "\n",
        "class LinkedList:\n",
        "    def __init__(self):\n",
        "        self.head = None\n",
        "\n",
        "    def insert_at_beginning(self, data):\n",
        "        \"\"\"Inserts a new node at the beginning of the linked list.\"\"\"\n",
        "        new_node = Node(data)\n",
        "        new_node.next = self.head\n",
        "        self.head = new_node\n",
        "\n",
        "    def insert_at_end(self, data):\n",
        "        \"\"\"Inserts a new node at the end of the linked list.\"\"\"\n",
        "        new_node = Node(data)\n",
        "        if self.head is None:\n",
        "            self.head = new_node\n",
        "            return\n",
        "        last = self.head\n",
        "        while (last.next):\n",
        "            last = last.next\n",
        "        last.next = new_node\n",
        "\n",
        "    def display(self):\n",
        "        \"\"\"Prints the linked list.\"\"\"\n",
        "        current = self.head\n",
        "        while current:\n",
        "            print(current.data, end=\" -> \")\n",
        "            current = current.next\n",
        "        print(\"None\")\n",
        "\n",
        "    def is_empty(self):\n",
        "        \"\"\"Returns True if the linked list is empty, False otherwise.\"\"\"\n",
        "        return self.head is None"
      ],
      "metadata": {
        "id": "yYBF6AHKgWQR"
      },
      "execution_count": null,
      "outputs": []
    },
    {
      "cell_type": "markdown",
      "source": [
        "Task Description #4 – Binary Search Tree (BST)\n",
        "Task: Ask AI to generate a simple BST with insert() and\n",
        "inorder_traversal().\n"
      ],
      "metadata": {
        "id": "0h4y70_KgWmS"
      }
    },
    {
      "cell_type": "code",
      "source": [
        "class TreeNode:\n",
        "    def __init__(self, key):\n",
        "        self.left = None\n",
        "        self.right = None\n",
        "        self.val = key\n",
        "\n",
        "class BST:\n",
        "    def __init__(self):\n",
        "        self.root = None\n",
        "\n",
        "    def insert(self, root, key):\n",
        "        \"\"\"Inserts a new node with the given key into the BST.\"\"\"\n",
        "        if root is None:\n",
        "            return TreeNode(key)\n",
        "        else:\n",
        "            if root.val < key:\n",
        "                root.right = self.insert(root.right, key)\n",
        "            else:\n",
        "                root.left = self.insert(root.left, key)\n",
        "        return root\n",
        "\n",
        "    def inorder_traversal(self, root):\n",
        "        \"\"\"Performs an inorder traversal of the BST.\"\"\"\n",
        "        if root:\n",
        "            self.inorder_traversal(root.left)\n",
        "            print(root.val, end=\" \")\n",
        "            self.inorder_traversal(root.right)\n",
        "\n",
        "    def insert_node(self, key):\n",
        "        \"\"\"Helper function to insert a key into the BST starting from the root.\"\"\"\n",
        "        self.root = self.insert(self.root, key)\n",
        "\n",
        "    def inorder(self):\n",
        "        \"\"\"Helper function to perform inorder traversal starting from the root.\"\"\"\n",
        "        self.inorder_traversal(self.root)\n",
        "        print() # Add a newline at the end for cleaner output"
      ],
      "metadata": {
        "id": "lUsbze7UgXXh"
      },
      "execution_count": null,
      "outputs": []
    }
  ]
}